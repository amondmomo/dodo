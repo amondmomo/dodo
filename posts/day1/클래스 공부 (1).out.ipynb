{
  "cells": [
    {
      "cell_type": "markdown",
      "metadata": {},
      "source": [
        "# Class 공부 (1)\n",
        "\n",
        "amondmomo  \n",
        "2024-02-21\n",
        "\n",
        "## 클래스 공부 (1)\n",
        "\n",
        "`#1` 클래스 선언\n",
        "\n",
        "-   클래스의 이름은 대문자로 설정"
      ],
      "id": "d7474a54-45fa-41b5-860b-5df22aed9d33"
    },
    {
      "cell_type": "code",
      "execution_count": 2,
      "metadata": {},
      "outputs": [],
      "source": [
        "# 예시\n",
        "class Klass:\n",
        "    pass"
      ],
      "id": "79f63fb0-6bcd-4810-a05b-3e402e996414"
    }
  ],
  "nbformat": 4,
  "nbformat_minor": 5,
  "metadata": {
    "kernelspec": {
      "name": "python3",
      "display_name": "Python 3 (ipykernel)",
      "language": "python"
    },
    "language_info": {
      "name": "python",
      "codemirror_mode": {
        "name": "ipython",
        "version": "3"
      },
      "file_extension": ".py",
      "mimetype": "text/x-python",
      "nbconvert_exporter": "python",
      "pygments_lexer": "ipython3",
      "version": "3.10.13"
    }
  }
}