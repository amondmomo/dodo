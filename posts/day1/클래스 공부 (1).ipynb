{
 "cells": [
  {
   "cell_type": "raw",
   "id": "bd12338a-6cfc-4cb1-b19a-06e7fcc74557",
   "metadata": {},
   "source": [
    "---\n",
    "title: \"Class 공부 (1)\"\n",
    "author: \"amondmomo\"\n",
    "date: \"2024-02-21\"\n",
    "categories: [class]\n",
    "---"
   ]
  },
  {
   "cell_type": "markdown",
   "id": "f8ea7318-845b-4130-bb6b-be71b9d8e5bb",
   "metadata": {},
   "source": [
    "## 클래스 공부 (1)"
   ]
  },
  {
   "cell_type": "markdown",
   "id": "5a2be9e0-e239-40f0-b3e8-92e4b5fc0492",
   "metadata": {},
   "source": [
    "`#1` 클래스 선언"
   ]
  },
  {
   "cell_type": "markdown",
   "id": "02716097-a7bc-4ae9-9173-a3d2955b8b10",
   "metadata": {},
   "source": [
    "- 클래스의 이름은 대문자로 설정"
   ]
  },
  {
   "cell_type": "code",
   "execution_count": 2,
   "id": "79f63fb0-6bcd-4810-a05b-3e402e996414",
   "metadata": {},
   "outputs": [],
   "source": [
    "# 예시\n",
    "class Klass:\n",
    "    pass"
   ]
  }
 ],
 "metadata": {
  "kernelspec": {
   "display_name": "Python 3 (ipykernel)",
   "language": "python",
   "name": "python3"
  },
  "language_info": {
   "codemirror_mode": {
    "name": "ipython",
    "version": 3
   },
   "file_extension": ".py",
   "mimetype": "text/x-python",
   "name": "python",
   "nbconvert_exporter": "python",
   "pygments_lexer": "ipython3",
   "version": "3.10.13"
  }
 },
 "nbformat": 4,
 "nbformat_minor": 5
}
