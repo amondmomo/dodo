{
  "cells": [
    {
      "cell_type": "markdown",
      "metadata": {},
      "source": [
        "# Class 공부 (1)\n",
        "\n",
        "amondmomo  \n",
        "2024-02-21"
      ],
      "id": "d6645c6e-cac5-4149-af6a-2f91a094aba1"
    }
  ],
  "nbformat": 4,
  "nbformat_minor": 5,
  "metadata": {
    "kernelspec": {
      "display_name": "Python 3",
      "language": "python",
      "name": "python3"
    }
  }
}