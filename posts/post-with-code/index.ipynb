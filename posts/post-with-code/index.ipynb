{
  "cells": [
    {
      "cell_type": "markdown",
      "metadata": {},
      "source": [
        "# Post With Code\n",
        "\n",
        "Harlow Malloc  \n",
        "2024-02-21\n",
        "\n",
        "This is a post with executable code."
      ],
      "id": "ee990c80-5c49-425f-a4f8-fc7bacde0114"
    }
  ],
  "nbformat": 4,
  "nbformat_minor": 5,
  "metadata": {
    "kernelspec": {
      "display_name": "Python 3",
      "language": "python",
      "name": "python3"
    }
  }
}